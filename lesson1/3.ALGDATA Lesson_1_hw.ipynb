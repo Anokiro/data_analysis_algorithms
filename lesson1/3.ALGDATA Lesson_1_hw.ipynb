{
 "cells": [
  {
   "cell_type": "markdown",
   "metadata": {},
   "source": [
    "## Урок 1"
   ]
  },
  {
   "cell_type": "markdown",
   "metadata": {
    "colab": {
     "base_uri": "https://localhost:8080/",
     "height": 34
    },
    "colab_type": "code",
    "id": "ZVRCF5P2MYI6",
    "outputId": "0b0e2f05-a23c-4bf8-f37d-b4240d2e0af0"
   },
   "source": [
    "### Алгоритм линейной регрессии. Градиентный спуск."
   ]
  },
  {
   "cell_type": "markdown",
   "metadata": {
    "colab_type": "text",
    "id": "huXrhXQsZTMt"
   },
   "source": [
    "#### 1. Подберите скорость обучения (alpha) и количество итераций:"
   ]
  },
  {
   "cell_type": "code",
   "execution_count": 1,
   "metadata": {},
   "outputs": [
    {
     "data": {
      "text/plain": [
       "(2, 10)"
      ]
     },
     "execution_count": 1,
     "metadata": {},
     "output_type": "execute_result"
    }
   ],
   "source": [
    "import numpy as np\n",
    "import matplotlib.pyplot as plt\n",
    "\n",
    "y = [45, 55, 50, 59, 65, 35, 75, 80, 50, 60]\n",
    "\n",
    "X = np.array([[1, 1, 1, 1, 1, 1, 1, 1, 1, 1],\n",
    "              [1, 1, 2, 1, 3, 0, 5, 10, 1, 2]])\n",
    "X.shape"
   ]
  },
  {
   "cell_type": "code",
   "execution_count": 2,
   "metadata": {},
   "outputs": [],
   "source": [
    "def calc_mse(y, y_pred):\n",
    "    err = np.mean((y - y_pred)**2)\n",
    "    return err"
   ]
  },
  {
   "cell_type": "code",
   "execution_count": 3,
   "metadata": {},
   "outputs": [
    {
     "data": {
      "image/png": "[encoded data removed]",
      "text/plain": [
       "<Figure size 432x288 with 1 Axes>"
      ]
     },
     "metadata": {
      "needs_background": "light"
     },
     "output_type": "display_data"
    }
   ],
   "source": [
    "import matplotlib.pyplot as plt\n",
    "plt.scatter(X[1], y)\n",
    "plt.grid()\n",
    "\n",
    "# import pylab\n",
    "# import scipy.stats as stats\n",
    "# stats.probplot(y, dist='norm', plot=pylab)\n",
    "# pylab.show()"
   ]
  },
  {
   "cell_type": "code",
   "execution_count": 6,
   "metadata": {
    "colab": {
     "base_uri": "https://localhost:8080/",
     "height": 34
    },
    "colab_type": "code",
    "id": "VEXjDozNHdAo",
    "outputId": "7d12bb79-21b7-43fb-fd8e-d116a2af3bb7"
   },
   "outputs": [
    {
     "data": {
      "text/plain": [
       "array([1. , 0.5])"
      ]
     },
     "execution_count": 6,
     "metadata": {},
     "output_type": "execute_result"
    }
   ],
   "source": [
    "n = X.shape[1] #10\n",
    "W = np.array([1, 0.5])\n",
    "W"
   ]
  },
  {
   "cell_type": "code",
   "execution_count": 7,
   "metadata": {
    "colab": {
     "base_uri": "https://localhost:8080/",
     "height": 185
    },
    "colab_type": "code",
    "id": "IDB22MQKMYaJ",
    "outputId": "4c03219e-a57c-4583-f439-6699fd0619bb",
    "scrolled": false
   },
   "outputs": [
    {
     "name": "stdout",
     "output_type": "stream",
     "text": [
      "1.0 0 [111.2 340.5] 3173.15\n",
      "0.16666666666666666 5 [-1050894.82270827 -5691297.43635911] 31152312268987.992\n",
      "0.09090909090909091 10 [7.95222356e+07 4.30646600e+08] 9.532193004142854e+17\n",
      "0.0625 15 [-1.64017815e+08 -8.88226735e+08] 1.5707752715460112e+19\n",
      "0.047619047619047616 20 [11164903.62541838 60462466.93479252] 2.996159052027899e+17\n",
      "0.038461538461538464 25 [-10881.87319157 -59182.18430278] 2133633181461.4048\n",
      "0.03225806451612903 30 [47.27978274  3.8987182 ] 46.14219839995496\n",
      "------------------------------------------------\n",
      "Количество итераций 34(расчет с нуля), alpha = 0.02941, Вектор весов = [47.27731493  3.90235709], ошибка = 45.9385971582095\n"
     ]
    }
   ],
   "source": [
    "# счетчик итераций\n",
    "iter_num = 0\n",
    "\n",
    "# список значений ошибок после каждой итерации\n",
    "min_error = 0.0001\n",
    "errors = [0]\n",
    "\n",
    "max_iter = 5000\n",
    "\n",
    "mn = 50\n",
    "\n",
    "while iter_num != max_iter:\n",
    "    # подберем скорость обучения, которая будет уменьшаться в зависимости от кол-во итераций\n",
    "    alpha = 1 / min(iter_num + 1, mn)\n",
    "    \n",
    "    y_pred = np.dot(W, X)\n",
    "    err = calc_mse(y, y_pred)\n",
    "    \n",
    "    errors.append(err)\n",
    "    err_diff = abs(errors[iter_num + 1] - errors[iter_num])\n",
    "    \n",
    "    if (err_diff > min_error):\n",
    "        for ii in range(W.shape[0]):\n",
    "            W[ii] -= alpha * (1/n * 2 * np.sum(X[ii] * (y_pred - y)))\n",
    "        if iter_num % 5 == 0:\n",
    "            print(alpha, iter_num, W, err)\n",
    "        \n",
    "        iter_num += 1\n",
    "    if (err_diff < min_error) or (iter_num > max_iter):\n",
    "        print('------------------------------------------------')\n",
    "        print(f'Количество итераций {iter_num + 1}(расчет с нуля), alpha = {round(alpha, 5)}, Вектор весов = {W}, ошибка = {err}')\n",
    "        break\n",
    "        "
   ]
  },
  {
   "cell_type": "code",
   "execution_count": 8,
   "metadata": {},
   "outputs": [
    {
     "data": {
      "text/plain": [
       "<matplotlib.collections.PathCollection at 0x2abe63d76c8>"
      ]
     },
     "execution_count": 8,
     "metadata": {},
     "output_type": "execute_result"
    },
    {
     "data": {
      "image/png": "[encoded data removed]",
      "text/plain": [
       "<Figure size 720x504 with 1 Axes>"
      ]
     },
     "metadata": {
      "needs_background": "light"
     },
     "output_type": "display_data"
    }
   ],
   "source": [
    "import matplotlib.pyplot as plt\n",
    "fig = plt.figure(figsize=(10, 7))\n",
    "plt.plot(X[1], W[0] + W[1] * X[1], label=\"norm\", color='red')\n",
    "plt.scatter(X[1], y)"
   ]
  },
  {
   "cell_type": "markdown",
   "metadata": {
    "colab_type": "text",
    "id": "5Qu1o4JhZYwI"
   },
   "source": [
    "#### *2. В этом коде мы избавляемся от итераций по весам, но тут есть ошибка, исправьте ее:"
   ]
  },
  {
   "cell_type": "markdown",
   "metadata": {},
   "source": [
    "формула вычисления градиента:\n",
    "$$\\nabla_{w}Q(w,X) = \\frac{2}{n}X^{T}(Xw-y).$$"
   ]
  },
  {
   "cell_type": "code",
   "execution_count": 9,
   "metadata": {
    "colab": {
     "base_uri": "https://localhost:8080/",
     "height": 185
    },
    "colab_type": "code",
    "id": "WZZzDCQLY4pA",
    "outputId": "28f58ade-72f2-4381-809d-2417752d56e4"
   },
   "outputs": [
    {
     "name": "stdout",
     "output_type": "stream",
     "text": [
      "0 0.01 [1.01 0.51] 3150.55\n",
      "100 0.01 [2.01 1.51] 2680.75\n",
      "200 0.01 [3.01 2.51] 2258.9500000000053\n",
      "300 0.01 [4.01 3.51] 1885.150000000012\n",
      "400 0.01 [5.01 4.51] 1559.3500000000165\n",
      "500 0.01 [6.01 5.51] 1281.5500000000193\n",
      "600 0.01 [7.01 6.51] 1051.7500000000202\n",
      "700 0.01 [8.01 7.51] 869.9500000000189\n",
      "800 0.01 [9.01 8.51] 736.1500000000156\n",
      "900 0.01 [10.01  9.51] 650.3500000000103\n",
      "1000 0.01 [11.01 10.03] 608.7872000000062\n",
      "1100 0.01 [12.01  9.85] 576.6332000000067\n",
      "1200 0.01 [13.01  9.67] 545.420800000007\n",
      "1300 0.01 [14.01  9.51] 515.1500000000076\n",
      "1400 0.01 [15.01  9.33] 485.820800000008\n",
      "1500 0.01 [16.01  9.15] 457.4332000000084\n",
      "1600 0.01 [17.01  8.97] 429.98680000000365\n",
      "1700 0.01 [18.01  8.79] 403.4799999999997\n",
      "1800 0.01 [19.01  8.61] 377.9147999999957\n",
      "1900 0.01 [20.01  8.45] 353.2911999999921\n",
      "2000 0.01 [21.01  8.27] 329.60919999998873\n",
      "2100 0.01 [22.01  8.09] 306.8699999999857\n",
      "2200 0.01 [23.01  7.91] 285.06879999998307\n",
      "2300 0.01 [24.01  7.73] 264.20919999998057\n",
      "2400 0.01 [25.01  7.55] 244.29119999997846\n",
      "2500 0.01 [26.01  7.39] 225.31479999997654\n",
      "2600 0.01 [27.01  7.21] 207.27999999997505\n",
      "2700 0.01 [28.01  7.03] 190.18719999997387\n",
      "2800 0.01 [29.01  6.85] 174.03319999997285\n",
      "2900 0.01 [30.01  6.67] 158.8207999999722\n",
      "3000 0.01 [31.01  6.49] 144.54999999997173\n",
      "3100 0.01 [32.01  6.33] 131.2207999999717\n",
      "3200 0.01 [33.01  6.15] 118.83319999997605\n",
      "3300 0.01 [34.01  5.97] 107.38679999998025\n",
      "3400 0.01 [35.01  5.79] 96.87999999998394\n",
      "3500 0.01 [36.01  5.61] 87.31479999998722\n",
      "3600 0.01 [37.01  5.45] 78.69119999999016\n",
      "3700 0.01 [38.01  5.27] 71.0091999999927\n",
      "3800 0.01 [39.01  5.09] 64.26879999999491\n",
      "3900 0.01 [40.01  4.91] 58.46879999999676\n",
      "4000 0.01 [41.01  4.73] 53.60919999999819\n",
      "4100 0.01 [42.01  4.55] 49.691199999999256\n",
      "4200 0.01 [43.01  4.39] 46.71479999999996\n",
      "4300 0.01 [44.01  4.21] 44.680000000000305\n",
      "4400 0.01 [45.01  4.03] 43.5872000000002\n",
      "4500 0.01 [45.63  3.93] 43.379600000000025\n",
      "4600 0.01 [45.63  3.93] 43.379600000000025\n",
      "4700 0.01 [45.63  3.93] 43.379600000000025\n",
      "4800 0.01 [45.63  3.93] 43.379600000000025\n",
      "4900 0.01 [45.63  3.93] 43.379600000000025\n"
     ]
    }
   ],
   "source": [
    "X = np.array([[ 1,  1],\n",
    "              [ 1,  1],\n",
    "              [ 1,  2],\n",
    "              [ 1,  5],\n",
    "              [ 1,  3],\n",
    "              [ 1,  0],\n",
    "              [ 1,  5],\n",
    "              [ 1, 10],\n",
    "              [ 1,  1],\n",
    "              [ 1,  2]])\n",
    "\n",
    "n = X.shape[1] #10\n",
    "W = np.array([1, 0.5])\n",
    "alpha = 0.01\n",
    "\n",
    "for i in range(5000):  \n",
    "    y_pred = np.dot(W, X.T)\n",
    "    err = calc_mse(y, y_pred)\n",
    "    '''for ii in range(W.shape[0]):\n",
    "    W[ii] -= alpha * (1/n * 2 * np.sum(X[ii] * (y_pred - y)))'''\n",
    "    \n",
    "#     ДАНА ФОРМУЛА: W -= alpha * (1/n * 2 * np.sum(X * (y_pred - y)))\n",
    "#     ||\n",
    "    # во второй задаче попробуем не изменять альфу, но добавить сигмоиду и исправить формулу(которая была дана в условии задачи)\n",
    "    W -= alpha * np.sign(1/n * 2 * (X.T @ (y_pred - y)))\n",
    "    \n",
    "    # Если матрица будет уже транспонированной, то просто X (без X.T)\n",
    "    # W -= alpha * (1/n * 2 * np.dot(X, y_pred - y))\n",
    "    if i % 100 == 0:\n",
    "        # еще альфу здесь можно фиксить\n",
    "        # alpha /= 1.01\n",
    "        print(i, alpha,  W, err)\n",
    "        "
   ]
  },
  {
   "cell_type": "code",
   "execution_count": null,
   "metadata": {},
   "outputs": [],
   "source": []
  }
 ],
 "metadata": {
  "colab": {
   "collapsed_sections": [],
   "name": "Lesson1.ipynb",
   "provenance": []
  },
  "kernelspec": {
   "display_name": "Python 3",
   "language": "python",
   "name": "python3"
  },
  "language_info": {
   "codemirror_mode": {
    "name": "ipython",
    "version": 3
   },
   "file_extension": ".py",
   "mimetype": "text/x-python",
   "name": "python",
   "nbconvert_exporter": "python",
   "pygments_lexer": "ipython3",
   "version": "3.7.6"
  }
 },
 "nbformat": 4,
 "nbformat_minor": 1
}
